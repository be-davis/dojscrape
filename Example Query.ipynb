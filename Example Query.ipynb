{
 "cells": [
  {
   "cell_type": "code",
   "execution_count": 6,
   "metadata": {},
   "outputs": [],
   "source": [
    "import pandas as pd\n",
    "import matplotlib.pyplot as plt"
   ]
  },
  {
   "cell_type": "code",
   "execution_count": 28,
   "metadata": {},
   "outputs": [
    {
     "data": {
      "text/html": [
       "<div>\n",
       "<style scoped>\n",
       "    .dataframe tbody tr th:only-of-type {\n",
       "        vertical-align: middle;\n",
       "    }\n",
       "\n",
       "    .dataframe tbody tr th {\n",
       "        vertical-align: top;\n",
       "    }\n",
       "\n",
       "    .dataframe thead th {\n",
       "        text-align: right;\n",
       "    }\n",
       "</style>\n",
       "<table border=\"1\" class=\"dataframe\">\n",
       "  <thead>\n",
       "    <tr style=\"text-align: right;\">\n",
       "      <th></th>\n",
       "      <th>id</th>\n",
       "      <th>title</th>\n",
       "      <th>contents</th>\n",
       "      <th>date</th>\n",
       "      <th>date_month</th>\n",
       "      <th>date_year</th>\n",
       "      <th>topics</th>\n",
       "      <th>components</th>\n",
       "    </tr>\n",
       "  </thead>\n",
       "  <tbody>\n",
       "    <tr>\n",
       "      <th>0</th>\n",
       "      <td>None</td>\n",
       "      <td>Massachusetts Man Sentenced to Over Seven Year...</td>\n",
       "      <td>U.S. Attorney Thomas E. Delahanty II of the Di...</td>\n",
       "      <td>2015-07-14 04:00:00</td>\n",
       "      <td>7</td>\n",
       "      <td>2015</td>\n",
       "      <td></td>\n",
       "      <td>USAO - Maine</td>\n",
       "    </tr>\n",
       "    <tr>\n",
       "      <th>1</th>\n",
       "      <td>None</td>\n",
       "      <td>Man Charged for His Role in Creating the Krono...</td>\n",
       "      <td>Gregory J. Haanstad, United States Attorney fo...</td>\n",
       "      <td>2017-08-03 04:00:00</td>\n",
       "      <td>8</td>\n",
       "      <td>2017</td>\n",
       "      <td></td>\n",
       "      <td>USAO - Nevada</td>\n",
       "    </tr>\n",
       "    <tr>\n",
       "      <th>2</th>\n",
       "      <td>None</td>\n",
       "      <td>Five Individuals Charged in Nationwide Identit...</td>\n",
       "      <td>Conspirators Obtain Identity Information of 12...</td>\n",
       "      <td>2015-05-13 04:00:00</td>\n",
       "      <td>5</td>\n",
       "      <td>2015</td>\n",
       "      <td></td>\n",
       "      <td>USAO - Oregon</td>\n",
       "    </tr>\n",
       "    <tr>\n",
       "      <th>3</th>\n",
       "      <td>None</td>\n",
       "      <td>Federal Operation Convicts Nine Montanans of M...</td>\n",
       "      <td>U.S. Attorney Michael W. Cotter for the Distri...</td>\n",
       "      <td>2015-06-17 04:00:00</td>\n",
       "      <td>6</td>\n",
       "      <td>2015</td>\n",
       "      <td></td>\n",
       "      <td>USAO - Montana</td>\n",
       "    </tr>\n",
       "    <tr>\n",
       "      <th>4</th>\n",
       "      <td>None</td>\n",
       "      <td>Montana Drug Operation Convicts 20 Defendants,...</td>\n",
       "      <td>The U.S. Attorney’s Office announces today the...</td>\n",
       "      <td>2015-06-18 04:00:00</td>\n",
       "      <td>6</td>\n",
       "      <td>2015</td>\n",
       "      <td></td>\n",
       "      <td>USAO - Montana</td>\n",
       "    </tr>\n",
       "  </tbody>\n",
       "</table>\n",
       "</div>"
      ],
      "text/plain": [
       "     id                                              title  \\\n",
       "0  None  Massachusetts Man Sentenced to Over Seven Year...   \n",
       "1  None  Man Charged for His Role in Creating the Krono...   \n",
       "2  None  Five Individuals Charged in Nationwide Identit...   \n",
       "3  None  Federal Operation Convicts Nine Montanans of M...   \n",
       "4  None  Montana Drug Operation Convicts 20 Defendants,...   \n",
       "\n",
       "                                            contents                date  \\\n",
       "0  U.S. Attorney Thomas E. Delahanty II of the Di... 2015-07-14 04:00:00   \n",
       "1  Gregory J. Haanstad, United States Attorney fo... 2017-08-03 04:00:00   \n",
       "2  Conspirators Obtain Identity Information of 12... 2015-05-13 04:00:00   \n",
       "3  U.S. Attorney Michael W. Cotter for the Distri... 2015-06-17 04:00:00   \n",
       "4  The U.S. Attorney’s Office announces today the... 2015-06-18 04:00:00   \n",
       "\n",
       "   date_month  date_year topics      components  \n",
       "0           7       2015           USAO - Maine  \n",
       "1           8       2017          USAO - Nevada  \n",
       "2           5       2015          USAO - Oregon  \n",
       "3           6       2015         USAO - Montana  \n",
       "4           6       2015         USAO - Montana  "
      ]
     },
     "execution_count": 28,
     "metadata": {},
     "output_type": "execute_result"
    }
   ],
   "source": [
    "def get_data():\n",
    "    # Load data from BigQuery\n",
    "    # Run pip install pandas-gbq if not installed\n",
    "    \n",
    "    sql = \"\"\"\n",
    "    SELECT \n",
    "      id, \n",
    "      title, \n",
    "      contents,\n",
    "      date,\n",
    "      EXTRACT(MONTH FROM date) date_month,\n",
    "      EXTRACT(YEAR FROM date) date_year,\n",
    "      ARRAY_TO_STRING(topics,\",\") topics,\n",
    "      ARRAY_TO_STRING(components,\",\") components\n",
    "    FROM \n",
    "      `jbencina-144002.doj.press_releases`\n",
    "    \"\"\"\n",
    "    \n",
    "    return pd.read_gbq(sql, dialect='standard')\n",
    "\n",
    "df = get_data()\n",
    "df.head()"
   ]
  },
  {
   "cell_type": "markdown",
   "metadata": {},
   "source": [
    "## Counts over time"
   ]
  },
  {
   "cell_type": "code",
   "execution_count": 38,
   "metadata": {},
   "outputs": [
    {
     "data": {
      "image/png": "[encoded data removed]",
      "text/plain": [
       "<Figure size 432x288 with 1 Axes>"
      ]
     },
     "metadata": {},
     "output_type": "display_data"
    }
   ],
   "source": [
    "def show_monthly_counts(data):\n",
    "    data.groupby('date_year').title.count().plot(kind='bar', color='gray', title='Releases by year')\n",
    "show_monthly_counts(df)"
   ]
  },
  {
   "cell_type": "markdown",
   "metadata": {},
   "source": [
    "## Show topics over time\n",
    "Topics more sparse before 2011"
   ]
  },
  {
   "cell_type": "code",
   "execution_count": 90,
   "metadata": {},
   "outputs": [
    {
     "data": {
      "text/plain": [
       "date_year                     \n",
       "2011       Hate Crimes             41\n",
       "           Consumer Protection     31\n",
       "           StopFraud               25\n",
       "2012       StopFraud               71\n",
       "           Consumer Protection     49\n",
       "           Hate Crimes             35\n",
       "2013       Consumer Protection     50\n",
       "           StopFraud               26\n",
       "           Hate Crimes             26\n",
       "2014       Consumer Protection     48\n",
       "           Hate Crimes             29\n",
       "           Antitrust               18\n",
       "2015       Tax                    187\n",
       "           Health Care Fraud      111\n",
       "           National Security       99\n",
       "2016       Tax                    300\n",
       "           Civil Rights           229\n",
       "           Antitrust              105\n",
       "2017       Tax                    258\n",
       "           Civil Rights           112\n",
       "           Antitrust               80\n",
       "2018       Tax                    117\n",
       "           Health Care Fraud       58\n",
       "           Counterterrorism        40\n",
       "dtype: int64"
      ]
     },
     "execution_count": 90,
     "metadata": {},
     "output_type": "execute_result"
    }
   ],
   "source": [
    "def topics_over_time(data):\n",
    "    df = data[(data.topics.str.len()>0) & (data.date_year >= 2011)]\\\n",
    "        .set_index('date_year')\\\n",
    "        .topics.str.split(',')\\\n",
    "        .apply(pd.Series)\\\n",
    "        .stack()\\\n",
    "        .reset_index(level=1, drop=True)\\\n",
    "        .groupby('date_year')\\\n",
    "        .apply(lambda x: x.value_counts().nlargest(3))\n",
    "    \n",
    "    return df\n",
    "\n",
    "topics_over_time(df)"
   ]
  },
  {
   "cell_type": "markdown",
   "metadata": {},
   "source": [
    "## Show components over time"
   ]
  },
  {
   "cell_type": "code",
   "execution_count": 91,
   "metadata": {},
   "outputs": [
    {
     "data": {
      "text/plain": [
       "date_year                       \n",
       "2011       Criminal Division        479\n",
       "           Civil Rights Division    285\n",
       "           Tax Division             220\n",
       "2012       Criminal Division        432\n",
       "           Civil Rights Division    298\n",
       "           Tax Division             196\n",
       "2013       Criminal Division        373\n",
       "           Civil Rights Division    270\n",
       "           Tax Division             227\n",
       "2014       Criminal Division        412\n",
       "           Civil Rights Division    235\n",
       "           Tax Division             230\n",
       "2015       Criminal Division        348\n",
       "           Tax Division             276\n",
       "           Civil Rights Division    261\n",
       "2016       Criminal Division        313\n",
       "           Tax Division             292\n",
       "           Civil Rights Division    240\n",
       "2017       Criminal Division        352\n",
       "           Tax Division             258\n",
       "            Eastern                 177\n",
       "2018       Criminal Division        268\n",
       "           Civil Rights Division    126\n",
       "           Tax Division             125\n",
       "dtype: int64"
      ]
     },
     "execution_count": 91,
     "metadata": {},
     "output_type": "execute_result"
    }
   ],
   "source": [
    "def components_over_time(data):\n",
    "    df = data[(data.components.str.len()>0) & (data.date_year >= 2011)]\\\n",
    "        .set_index('date_year')\\\n",
    "        .components.str.split(',')\\\n",
    "        .apply(pd.Series)\\\n",
    "        .stack()\\\n",
    "        .reset_index(level=1, drop=True)\\\n",
    "        .groupby('date_year')\\\n",
    "        .apply(lambda x: x.value_counts().nlargest(3))\n",
    "    \n",
    "    return df\n",
    "\n",
    "components_over_time(df)"
   ]
  }
 ],
 "metadata": {
  "kernelspec": {
   "display_name": "Python [default]",
   "language": "python",
   "name": "python3"
  },
  "language_info": {
   "codemirror_mode": {
    "name": "ipython",
    "version": 3
   },
   "file_extension": ".py",
   "mimetype": "text/x-python",
   "name": "python",
   "nbconvert_exporter": "python",
   "pygments_lexer": "ipython3",
   "version": "3.6.5"
  }
 },
 "nbformat": 4,
 "nbformat_minor": 2
}
