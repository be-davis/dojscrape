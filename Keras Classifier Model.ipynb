{
 "cells": [
  {
   "cell_type": "code",
   "execution_count": 178,
   "metadata": {},
   "outputs": [],
   "source": [
    "import pandas as pd\n",
    "import matplotlib.pyplot as plt\n",
    "import numpy as np\n",
    "from collections import Counter"
   ]
  },
  {
   "cell_type": "code",
   "execution_count": 2,
   "metadata": {},
   "outputs": [
    {
     "data": {
      "text/html": [
       "<div>\n",
       "<style scoped>\n",
       "    .dataframe tbody tr th:only-of-type {\n",
       "        vertical-align: middle;\n",
       "    }\n",
       "\n",
       "    .dataframe tbody tr th {\n",
       "        vertical-align: top;\n",
       "    }\n",
       "\n",
       "    .dataframe thead th {\n",
       "        text-align: right;\n",
       "    }\n",
       "</style>\n",
       "<table border=\"1\" class=\"dataframe\">\n",
       "  <thead>\n",
       "    <tr style=\"text-align: right;\">\n",
       "      <th></th>\n",
       "      <th>contents</th>\n",
       "      <th>topic_item</th>\n",
       "    </tr>\n",
       "  </thead>\n",
       "  <tbody>\n",
       "    <tr>\n",
       "      <th>0</th>\n",
       "      <td>THE FORMER TAX PREPARER FOR TELEVISION PERSONA...</td>\n",
       "      <td>TAX</td>\n",
       "    </tr>\n",
       "    <tr>\n",
       "      <th>1</th>\n",
       "      <td>UBS AG HAS COMPLIED WITH AN INTERNAL REVENUE S...</td>\n",
       "      <td>TAX</td>\n",
       "    </tr>\n",
       "    <tr>\n",
       "      <th>2</th>\n",
       "      <td>TWO MEN WHO CONSPIRED TO FILE MORE THAN 1,200 ...</td>\n",
       "      <td>TAX</td>\n",
       "    </tr>\n",
       "    <tr>\n",
       "      <th>3</th>\n",
       "      <td>WASHINGTON - JEFFERY LEON CEASER, A RESIDENT O...</td>\n",
       "      <td>TAX</td>\n",
       "    </tr>\n",
       "    <tr>\n",
       "      <th>4</th>\n",
       "      <td>FILED MORE THAN 335 FALSE TAX RETURNS SEEKING ...</td>\n",
       "      <td>TAX</td>\n",
       "    </tr>\n",
       "  </tbody>\n",
       "</table>\n",
       "</div>"
      ],
      "text/plain": [
       "                                            contents topic_item\n",
       "0  THE FORMER TAX PREPARER FOR TELEVISION PERSONA...        TAX\n",
       "1  UBS AG HAS COMPLIED WITH AN INTERNAL REVENUE S...        TAX\n",
       "2  TWO MEN WHO CONSPIRED TO FILE MORE THAN 1,200 ...        TAX\n",
       "3  WASHINGTON - JEFFERY LEON CEASER, A RESIDENT O...        TAX\n",
       "4  FILED MORE THAN 335 FALSE TAX RETURNS SEEKING ...        TAX"
      ]
     },
     "execution_count": 2,
     "metadata": {},
     "output_type": "execute_result"
    }
   ],
   "source": [
    "def get_data():\n",
    "    # Load data from BigQuery\n",
    "    # Run pip install pandas-gbq if not installed\n",
    "    \n",
    "    sql = \"\"\"\n",
    "        SELECT \n",
    "            UPPER(contents) contents,\n",
    "            UPPER(topic_item) topic_item\n",
    "        FROM `jbencina-144002.doj.press_releases`, UNNEST(topics) topic_item \n",
    "        where array_length(topics)>0\n",
    "    \"\"\"\n",
    "    \n",
    "    return pd.read_gbq(sql, dialect='standard')\n",
    "\n",
    "df = get_data()\n",
    "df.head()"
   ]
  },
  {
   "cell_type": "code",
   "execution_count": 146,
   "metadata": {},
   "outputs": [
    {
     "name": "stdout",
     "output_type": "stream",
     "text": [
      "\n",
      "A LICENSED PHARMACIST WAS SENTENCED TODAY TO 78 MONTHS IN PRISON FOR ATTEMPTING TO WEAPONIZE THE LETHAL TOXINS RICIN AND ABRIN AND FOR POSSESSING A PROHIBITED FLASK INTENDING TO USE IT TO MANUFACTURE ILLEGAL NARCOTICS, U.S. ATTORNEY PAUL J. FISHMAN FOR THE DISTRICT OF NEW JERSEY ANNOUNCED. JORDAN GONZALEZ, 34, OF NEW YORK, FORMERLY OF JERSEY CITY, NEW JERSEY, PREVIOUSLY PLEADED GUILTY BEFORE U.S. DISTRICT JUDGE MARY L. COOPER TO AN INFORMATION CHARGING HIM WITH THE OFFENSES. “THE SENTENCE IMPOSE\n",
      "\n",
      "TWO ASSOCIATES ALSO SENTENCED FOR THEIR ROLES IN THE CONSPIRACY THE OWNER OF A FLORIDA MORTGAGE COMPANY WAS SENTENCED TODAY TO SERVE 135 MONTHS IN PRISON FOR ORCHESTRATING A $64 MILLION MORTGAGE FRAUD SCHEME. ASSISTANT ATTORNEY GENERAL LESLIE R. CALDWELL OF THE JUSTICE DEPARTMENT’S CRIMINAL DIVISION, U.S. ATTORNEY WIFREDO A. FERRER OF THE SOUTHERN DISTRICT OF FLORIDA AND SPECIAL AGENT IN CHARGE NADINE GURLEY OF THE U.S. DEPARTMENT OF HOUSING AND URBAN DEVELOPMENT OFFICE OF INSPECTOR GENERAL (HUD\n",
      "\n",
      "THE JUSTICE DEPARTMENT’S CONSUMER PROTECTION BRANCH RECOVERED MORE THAN $913 MILLION IN CRIMINAL AND CIVIL FINES, PENALTIES, AND RESTITUTION IN 2011, TONY WEST, ASSISTANT ATTORNEY GENERAL FOR THE CIVIL DIVISION, ANNOUNCED TODAY. IN ADDITION, THE BRANCH SECURED CONVICTIONS OF 37 DEFENDANTS, OBTAINED PRISON SENTENCES TOTALING MORE THAN 125 YEARS AGAINST 32 INDIVIDUALS, AND RECORDED A 95 PERCENT CONVICTION RATE LAST YEAR. SINCE 2009, THE CONSUMER PROTECTION EFFORTS OF THE CIVIL DIVISION, WORKING WI\n",
      "\n",
      "CRIMINALS RECEIVED $16 MILLION IN REFUNDS AFTER FILING BOGUS TAX RETURNS TWO BROTHERS PLEADED GUILTY TODAY IN THE DISTRICT OF MARYLAND IN A SCHEME IN WHICH THEY FILED APPROXIMATELY 37 FRAUDULENT TAX RETURNS SEEKING REFUNDS OF OVER $218 MILLION.  THE GUILTY PLEA WAS ANNOUNCED BY ACTING ASSISTANT ATTORNEY GENERAL CAROLINE D. CIRAOLO OF THE JUSTICE DEPARTMENT’S TAX DIVISION, U.S. ATTORNEY ROD J. ROSENSTEIN FOR THE DISTRICT OF MARYLAND AND SPECIAL AGENT IN CHARGE THOMAS JANKOWSKI OF THE INTERNAL REV\n",
      "\n",
      "RANDALL FOX, ONE-TIME CAPTAIN OF THE FISHING VESSEL NATIVE SUN, WAS FOUND GUILTY TODAY IN U.S. DISTRICT COURT IN SEATTLE OF DISCHARGING OILY WASTE DIRECTLY INTO THE OCEAN, A FELONY VIOLATION OF THE ACT TO PREVENT POLLUTION FROM SHIPS. THE JURY DELIBERATED 5 HOURS FOLLOWING A THREE-DAY TRIAL BEFORE U.S. DISTRICT JUDGE JOHN C. COUGHENOUR. RANDALL FOX FACES A MAXIMUM OF SIX YEARS IN PRISON AND A CRIMINAL FINE OF UP TO $250,000. “TODAY’S CONVICTION SHOWS THAT ILLEGAL DUMPING IN OUR OCEANS WILL NOT B\n"
     ]
    }
   ],
   "source": [
    "def show_sample(data, samples, max_len):\n",
    "    for i,v in data.sample(samples).contents.str[:max_len].iteritems():\n",
    "        print('\\n' + v)\n",
    "        \n",
    "show_sample(df, 5, 500)"
   ]
  },
  {
   "cell_type": "markdown",
   "metadata": {},
   "source": [
    "## Show top N topics"
   ]
  },
  {
   "cell_type": "code",
   "execution_count": 373,
   "metadata": {},
   "outputs": [
    {
     "data": {
      "text/plain": [
       "TAX                                       863\n",
       "CIVIL RIGHTS                              428\n",
       "CONSUMER PROTECTION                       402\n",
       "HEALTH CARE FRAUD                         327\n",
       "ANTITRUST                                 313\n",
       "HATE CRIMES                               290\n",
       "COUNTERTERRORISM                          260\n",
       "STOPFRAUD                                 253\n",
       "FALSE CLAIMS ACT                          240\n",
       "ENVIRONMENT                               220\n",
       "NATIONAL SECURITY                         210\n",
       "PROJECT SAFE CHILDHOOD                    179\n",
       "PUBLIC CORRUPTION                         172\n",
       "IDENTITY THEFT                            129\n",
       "FINANCIAL FRAUD                           128\n",
       "VIOLENT CRIME                             119\n",
       "CYBER CRIME                               100\n",
       "COUNTERINTELLIGENCE AND EXPORT CONTROL     95\n",
       "IMMIGRATION                                85\n",
       "HUMAN TRAFFICKING                          84\n",
       "Name: topic_item, dtype: int64"
      ]
     },
     "execution_count": 373,
     "metadata": {},
     "output_type": "execute_result"
    }
   ],
   "source": [
    "top_topics = df.topic_item.value_counts()[:20]\n",
    "top_topics"
   ]
  },
  {
   "cell_type": "markdown",
   "metadata": {},
   "source": [
    "## Get first N words and top K topics\n",
    "- Discard anything after Nth word"
   ]
  },
  {
   "cell_type": "code",
   "execution_count": 461,
   "metadata": {
    "scrolled": false
   },
   "outputs": [],
   "source": [
    "n_words = 1000\n",
    "n_topics = 20\n",
    "n_vocab = 5000\n",
    "\n",
    "def get_inputs(data, n_words, k_topics):\n",
    "    df = pd.get_dummies(data.set_index(data.contents.str[:n_words])).groupby(level=0).max()\n",
    "    top_topics = df.sum(axis=0).nlargest(k_topics).index.values\n",
    "\n",
    "    features = df.index.values\n",
    "    labels = df[top_topics].values\n",
    "    \n",
    "    return features, labels\n",
    "\n",
    "features, labels = get_inputs(df, n_words, n_topics)"
   ]
  },
  {
   "cell_type": "code",
   "execution_count": 462,
   "metadata": {},
   "outputs": [],
   "source": [
    "from keras.preprocessing.text import Tokenizer\n",
    "from keras.preprocessing.sequence import pad_sequences\n",
    "from keras import Sequential\n",
    "from keras.layers import LSTM, Embedding, Dense, CuDNNLSTM, Bidirectional, Dropout\n",
    "from keras.optimizers import Adam, Adagrad\n",
    "from keras.callbacks import EarlyStopping\n",
    "from keras.metrics import top_k_categorical_accuracy\n",
    "from sklearn.model_selection import train_test_split"
   ]
  },
  {
   "cell_type": "markdown",
   "metadata": {},
   "source": [
    "# Prepare data"
   ]
  },
  {
   "cell_type": "markdown",
   "metadata": {},
   "source": [
    "## Train test split"
   ]
  },
  {
   "cell_type": "code",
   "execution_count": 463,
   "metadata": {
    "scrolled": true
   },
   "outputs": [],
   "source": [
    "x_train, x_test, y_train, y_test = train_test_split(features, labels, test_size=0.2, random_state=10)"
   ]
  },
  {
   "cell_type": "markdown",
   "metadata": {},
   "source": [
    "## Convert to sequences\n",
    "- Choose top N words, converting others to UNK\n",
    "- Pad all sequences to a minimum length if they happen to be shorter"
   ]
  },
  {
   "cell_type": "code",
   "execution_count": 464,
   "metadata": {},
   "outputs": [],
   "source": [
    "def text_to_seq(x_train, x_test, max_len, num_words):\n",
    "    t = Tokenizer(num_words=num_words, oov_token='<UNK>')\n",
    "    t.fit_on_texts(x_train)\n",
    "    train_seq = t.texts_to_sequences(x_train)\n",
    "    train_pad = pad_sequences(train_seq, maxlen=max_len)\n",
    "\n",
    "    test_seq = t.texts_to_sequences(x_test)\n",
    "    test_pad = pad_sequences(test_seq, maxlen=train_pad.shape[1])\n",
    "    \n",
    "    return train_pad, test_pad, {k: t.word_index.get(k,0) for k in ['<PAD>'] + list(t.word_index)[:num_words-1]}, t\n",
    "\n",
    "train_pad, test_pad, vocab, t = text_to_seq(x_train, x_test, n_words, n_vocab)"
   ]
  },
  {
   "cell_type": "markdown",
   "metadata": {},
   "source": [
    "## Load pretrained word embeddings\n",
    "- Load Glove 50D\n",
    "- Select only the words in our vocab\n",
    "- Missing words become NA\n",
    "- NAs are filled with random values computed for each column\n",
    "- Final weights is equal to nwords x embedding size (n_words includes PAD & UNK)"
   ]
  },
  {
   "cell_type": "code",
   "execution_count": 465,
   "metadata": {},
   "outputs": [],
   "source": [
    "def load_glove(path, vocab):\n",
    "    df = pd.read_table(path, index_col=0, header=None, sep=' ', quoting=3, na_values=None, keep_default_na=False)\n",
    "    df.columns = [c for c in range(df.shape[1])]\n",
    "    \n",
    "    # Limit Glove to our vocab and fill in missing words from normal distribution\n",
    "    col_means = glove.mean()\n",
    "    col_std = glove.std()\n",
    "    word_vec = glove.reindex([k for k in vocab])\n",
    "\n",
    "    for i,col in enumerate(word_vec.columns):\n",
    "        vals = word_vec[col].values\n",
    "        mask = word_vec[col].isna()\n",
    "        rand_vals = np.random.normal(col_means[i], col_std[i], size=sum(mask))\n",
    "        vals[mask] = rand_vals\n",
    "\n",
    "    return word_vec\n",
    "    \n",
    "glove = load_glove('glove.6B.100d.txt', vocab)"
   ]
  },
  {
   "cell_type": "markdown",
   "metadata": {},
   "source": [
    "## Create RNN model\n",
    "- Pass squences through embedding (CuDNNLSTM doesn't support masking) with pretrained weights\n",
    "- Single layer LSTM + extra dense layer\n",
    "- Early stopping after 5 epochs"
   ]
  },
  {
   "cell_type": "code",
   "execution_count": 466,
   "metadata": {},
   "outputs": [],
   "source": [
    "model = Sequential([\n",
    "    Embedding(glove.shape[0], glove.shape[1], input_length=train_pad.shape[1], mask_zero=False, weights=[glove.values]),\n",
    "    Bidirectional(CuDNNLSTM(128, return_sequences=False)),\n",
    "    Dense(32, activation='relu'),\n",
    "    Dropout(0.2),\n",
    "    Dense(n_topics, activation='sigmoid')\n",
    "])\n",
    "\n",
    "optimizer = Adam(lr=0.001)\n",
    "es = EarlyStopping(patience=5)\n",
    "\n",
    "def top_k(y_true, y_pred):\n",
    "    return top_k_categorical_accuracy(y_true, y_pred, k=2)"
   ]
  },
  {
   "cell_type": "code",
   "execution_count": 467,
   "metadata": {},
   "outputs": [
    {
     "name": "stdout",
     "output_type": "stream",
     "text": [
      "_________________________________________________________________\n",
      "Layer (type)                 Output Shape              Param #   \n",
      "=================================================================\n",
      "embedding_33 (Embedding)     (None, 1000, 50)          250000    \n",
      "_________________________________________________________________\n",
      "bidirectional_9 (Bidirection (None, 256)               184320    \n",
      "_________________________________________________________________\n",
      "dense_64 (Dense)             (None, 32)                8224      \n",
      "_________________________________________________________________\n",
      "dropout_30 (Dropout)         (None, 32)                0         \n",
      "_________________________________________________________________\n",
      "dense_65 (Dense)             (None, 20)                660       \n",
      "=================================================================\n",
      "Total params: 443,204\n",
      "Trainable params: 443,204\n",
      "Non-trainable params: 0\n",
      "_________________________________________________________________\n"
     ]
    }
   ],
   "source": [
    "model.summary()"
   ]
  },
  {
   "cell_type": "code",
   "execution_count": 468,
   "metadata": {},
   "outputs": [
    {
     "name": "stdout",
     "output_type": "stream",
     "text": [
      "Train on 3748 samples, validate on 938 samples\n",
      "Epoch 1/100\n",
      " - 12s - loss: 0.2627 - top_k: 0.2030 - val_loss: 0.1900 - val_top_k: 0.3817\n",
      "Epoch 2/100\n",
      " - 10s - loss: 0.2000 - top_k: 0.2820 - val_loss: 0.1745 - val_top_k: 0.3529\n",
      "Epoch 3/100\n",
      " - 10s - loss: 0.1851 - top_k: 0.3071 - val_loss: 0.1664 - val_top_k: 0.3763\n",
      "Epoch 4/100\n",
      " - 10s - loss: 0.1763 - top_k: 0.3428 - val_loss: 0.1602 - val_top_k: 0.4030\n",
      "Epoch 5/100\n",
      " - 10s - loss: 0.1672 - top_k: 0.3991 - val_loss: 0.1529 - val_top_k: 0.4797\n",
      "Epoch 6/100\n",
      " - 10s - loss: 0.1659 - top_k: 0.4176 - val_loss: 0.1481 - val_top_k: 0.4861\n",
      "Epoch 7/100\n",
      " - 10s - loss: 0.1553 - top_k: 0.4800 - val_loss: 0.1366 - val_top_k: 0.5437\n",
      "Epoch 8/100\n",
      " - 10s - loss: 0.1415 - top_k: 0.5467 - val_loss: 0.1249 - val_top_k: 0.6205\n",
      "Epoch 9/100\n",
      " - 10s - loss: 0.1301 - top_k: 0.5920 - val_loss: 0.1186 - val_top_k: 0.6482\n",
      "Epoch 10/100\n",
      " - 10s - loss: 0.1166 - top_k: 0.6574 - val_loss: 0.1025 - val_top_k: 0.7079\n",
      "Epoch 11/100\n",
      " - 10s - loss: 0.1162 - top_k: 0.6395 - val_loss: 0.1019 - val_top_k: 0.7100\n",
      "Epoch 12/100\n",
      " - 10s - loss: 0.0995 - top_k: 0.7174 - val_loss: 0.0882 - val_top_k: 0.7420\n",
      "Epoch 13/100\n",
      " - 10s - loss: 0.0880 - top_k: 0.7519 - val_loss: 0.0803 - val_top_k: 0.7751\n",
      "Epoch 14/100\n",
      " - 10s - loss: 0.0849 - top_k: 0.7591 - val_loss: 0.0761 - val_top_k: 0.7804\n",
      "Epoch 15/100\n",
      " - 10s - loss: 0.0753 - top_k: 0.7866 - val_loss: 0.0767 - val_top_k: 0.7676\n",
      "Epoch 16/100\n",
      " - 10s - loss: 0.0737 - top_k: 0.7938 - val_loss: 0.0684 - val_top_k: 0.8070\n",
      "Epoch 17/100\n",
      " - 10s - loss: 0.0689 - top_k: 0.8063 - val_loss: 0.0701 - val_top_k: 0.7985\n",
      "Epoch 18/100\n",
      " - 10s - loss: 0.0661 - top_k: 0.8124 - val_loss: 0.0645 - val_top_k: 0.8134\n",
      "Epoch 19/100\n",
      " - 10s - loss: 0.0606 - top_k: 0.8263 - val_loss: 0.0658 - val_top_k: 0.8081\n",
      "Epoch 20/100\n",
      " - 10s - loss: 0.0562 - top_k: 0.8383 - val_loss: 0.0609 - val_top_k: 0.8262\n",
      "Epoch 21/100\n",
      " - 10s - loss: 0.0545 - top_k: 0.8386 - val_loss: 0.0639 - val_top_k: 0.8220\n",
      "Epoch 22/100\n",
      " - 10s - loss: 0.0510 - top_k: 0.8461 - val_loss: 0.0643 - val_top_k: 0.8188\n",
      "Epoch 23/100\n",
      " - 10s - loss: 0.0542 - top_k: 0.8410 - val_loss: 0.0638 - val_top_k: 0.8177\n",
      "Epoch 24/100\n",
      " - 10s - loss: 0.0508 - top_k: 0.8450 - val_loss: 0.0622 - val_top_k: 0.8348\n",
      "Epoch 25/100\n",
      " - 10s - loss: 0.0454 - top_k: 0.8621 - val_loss: 0.0588 - val_top_k: 0.8284\n",
      "Epoch 26/100\n",
      " - 10s - loss: 0.0417 - top_k: 0.8637 - val_loss: 0.0626 - val_top_k: 0.8422\n",
      "Epoch 27/100\n",
      " - 10s - loss: 0.0400 - top_k: 0.8674 - val_loss: 0.0625 - val_top_k: 0.8294\n",
      "Epoch 28/100\n",
      " - 10s - loss: 0.0384 - top_k: 0.8725 - val_loss: 0.0624 - val_top_k: 0.8316\n",
      "Epoch 29/100\n",
      " - 10s - loss: 0.0351 - top_k: 0.8749 - val_loss: 0.0655 - val_top_k: 0.8348\n",
      "Epoch 30/100\n",
      " - 11s - loss: 0.0341 - top_k: 0.8746 - val_loss: 0.0632 - val_top_k: 0.8369\n"
     ]
    }
   ],
   "source": [
    "model.compile(optimizer=optimizer, loss='binary_crossentropy', metrics=[top_k])\n",
    "train_history = model.fit(x=train_pad, y=y_train, batch_size=32, \n",
    "                          validation_data=(test_pad, y_test), epochs=100, verbose=2, callbacks=[es])"
   ]
  },
  {
   "cell_type": "markdown",
   "metadata": {},
   "source": [
    "## Plot Loss"
   ]
  },
  {
   "cell_type": "code",
   "execution_count": 469,
   "metadata": {},
   "outputs": [
    {
     "data": {
      "image/png": "[encoded data removed]",
      "text/plain": [
       "<Figure size 720x360 with 1 Axes>"
      ]
     },
     "metadata": {},
     "output_type": "display_data"
    }
   ],
   "source": [
    "def plot_loss(history):\n",
    "    %matplotlib inline\n",
    "    \n",
    "    f, ax = plt.subplots(1, figsize=(10,5))\n",
    "    ax.plot(history['val_loss'], label='Validation Loss')\n",
    "    ax.plot(history['loss'], label='Training Loss')\n",
    "    ax.set_title('Training and Validation Loss')\n",
    "    ax.set_ylabel('Loss')\n",
    "    ax.set_xlabel('Training Epoch')\n",
    "    ax.legend()\n",
    "    \n",
    "plot_loss(train_history.history)"
   ]
  },
  {
   "cell_type": "markdown",
   "metadata": {},
   "source": [
    "## Generate sample predictions"
   ]
  },
  {
   "cell_type": "code",
   "execution_count": 492,
   "metadata": {},
   "outputs": [
    {
     "name": "stdout",
     "output_type": "stream",
     "text": [
      "Model Predictions\n",
      "0.06% - VIOLENT CRIME\n",
      "0.03% - CONSUMER PROTECTION\n",
      "0.00% - FINANCIAL FRAUD\n",
      "0.00% - IMMIGRATION\n",
      "0.00% - STOPFRAUD\n",
      "0.00% - ENVIRONMENT\n",
      "0.00% - HUMAN TRAFFICKING\n",
      "0.00% - CIVIL RIGHTS\n",
      "0.00% - PUBLIC CORRUPTION\n",
      "0.00% - HATE CRIMES\n",
      "0.00% - NATIONAL SECURITY\n",
      "0.00% - IDENTITY THEFT\n",
      "0.00% - HEALTH CARE FRAUD\n",
      "0.00% - CYBER CRIME\n",
      "0.00% - PROJECT SAFE CHILDHOOD\n",
      "0.00% - FALSE CLAIMS ACT\n",
      "0.00% - COUNTERTERRORISM\n",
      "0.00% - COUNTERINTELLIGENCE AND EXPORT CONTROL\n",
      "0.00% - TAX\n",
      "0.00% - ANTITRUST\n",
      "\n",
      "True Label(s): Other (Not In Model)\n",
      "\n",
      "Sample Text:\n",
      "TODAY ATTORNEY GENERAL JEFF SESSIONS ISSUED A MEMO FOR THE ACTING ADMINISTRATOR OF THE DRUG ENFORCEMENT ADMINISTRATION DIRECTING THE DEA TO EVALUATE AND CONSIDER WHETHER OR NOT TO AMEND ITS REGULATIONS GOVERNING THE AGGREGATE PRODUCTION QUOTA WHERE APPROPRIATE AS EXPEDITIOUSLY AS PRACTICABLE, INCLUDING THROUGH A POTENTIAL INTERIM FINAL RULE. THIS IS IN RESPONSE TO STUDIES INDICATING THAT THE UNITED STATES IS AN OUTLIER IN THE NUMBER OF OPIOID PRESCRIPTIONS ISSUED EACH YEAR.\n",
      "IN MAKING THE ANNOUNCEMENT, ATTORNEY GENERAL SESSIONS SAID:\n",
      "“OUR NATION IS IN THE GRIPS OF THE DEADLIEST DRUG EPIDEMIC IN OUR HISTORY.  IN ACCORDANCE WITH PRESIDENT DONALD J. TRUMP’S DECLARATION OF A PUBLIC HEALTH EMERGENCY AND HIS DIRECTIVE TO HIS ADMINISTRATION TO ADDRESS DRUG ADDICTION AND OPIOID ABUSE, THE DEPARTMENT OF JUSTICE HAS HELPED LEAD THE FIGHT AGAINST THIS DEVASTATING CRISIS.  I APPRECIATE THE EFFORTS OF THE GREAT MEN AND WOMEN OF THE DRUG ENFORCEMENT ADMINISTRATION (DEA), WHO ARE MAKING SIGNIFICANT ST\n"
     ]
    }
   ],
   "source": [
    "import numpy as np\n",
    "def make_random_pred(model, x, x_true, y, topics):\n",
    "    idx = np.random.randint(0,x.shape[0])\n",
    "    \n",
    "    y_pred = model.predict(x[idx].reshape(1,-1))\n",
    "    y_pred_topic = ','.join(topics[y[idx].astype(bool)])\n",
    "    \n",
    "    preds = list(sorted(zip(y_pred[0], topics), key=lambda x: -x[0]))\n",
    "    print('Model Predictions')\n",
    "    print('\\n'.join(['{:.2%} - {}'.format(s,t) for s,t in preds]))\n",
    "    print('\\nTrue Label(s): {}'.format('Other (Not In Model)' if y_pred_topic=='' else y_pred_topic))\n",
    "    print('\\nSample Text:\\n' + x_true[idx])\n",
    "    \n",
    "    \n",
    "make_random_pred(model, test_pad, x_test, y_test, top_topics.index.values)\n",
    "    "
   ]
  }
 ],
 "metadata": {
  "kernelspec": {
   "display_name": "Python [conda env:tensorflow]",
   "language": "python",
   "name": "conda-env-tensorflow-py"
  },
  "language_info": {
   "codemirror_mode": {
    "name": "ipython",
    "version": 3
   },
   "file_extension": ".py",
   "mimetype": "text/x-python",
   "name": "python",
   "nbconvert_exporter": "python",
   "pygments_lexer": "ipython3",
   "version": "3.6.5"
  }
 },
 "nbformat": 4,
 "nbformat_minor": 2
}
